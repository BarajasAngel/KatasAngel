{
 "cells": [
  {
   "cell_type": "markdown",
   "metadata": {},
   "source": [
    "## Kata 2\n",
    "En esta kata aprendemos la creacion de virtualenv para tener un sistema cerrado que no creara problemas con demas factores de la computadora.\n",
    "\n",
    "### 1. Creacion del Entorno\n",
    "Comenzamos creando nuestro enterno dentro de la carpeta de nuestra preferencia. Como accion extra actualice el pip.\n",
    "\n",
    "![Creando el entorno](http://drive.google.com/uc?export=view&id=1iwGE7eEVXLRD3DuZhOVkJXVSuI9npmdQ)\n",
    "\n",
    "### 2. Instalacion de bibliotecas\n",
    "Aqui instalamos la biblioteca dateutil a modo de demostracion\n",
    "\n",
    "![Instalacion de biblioteca](http://drive.google.com/uc?export=view&id=1afdEXDgfEYXQQ6uHW61gGTdI5zju9zLF)\n",
    "\n",
    "### 3. Usamos el comando <code>pip freeze</code> para ver las librerias\n",
    "Con el comando <code>pip freeze</code> para poder verificar como se ha instalado <code>python-dateutil</code> dentro del entotno virtual y no en nuestra computadora\n",
    "\n",
    "![Verificando librerias](http://drive.google.com/uc?export=view&id=1JMpDbg7kokjGFMghKEZJiioVjs6-UCpD)\n",
    "\n",
    "## 4. Usando la libreria\n",
    "Para ocupar la libreria ocupamos crear un script dentro de la carpeta donde tenemos nuestro entorno aislado\n",
    "\n",
    "![Usando librerias](http://drive.google.com/uc?export=view&id=1yo9YMF0LzhTN8ew0Z1m-f5Naoo_SRTcr)"
   ]
  },
  {
   "cell_type": "markdown",
   "metadata": {},
   "source": [
    "<font color=\"#9383e9\">Kata resuelta por: Luis Angel Barajas</font>"
   ]
  }
 ],
 "metadata": {
  "language_info": {
   "name": "python"
  },
  "orig_nbformat": 4
 },
 "nbformat": 4,
 "nbformat_minor": 2
}
