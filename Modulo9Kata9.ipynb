{
 "cells": [
  {
   "cell_type": "markdown",
   "metadata": {},
   "source": [
    "# Kata 9\n",
    "### Ejercicio 1: Trabajar con argumentos en funciones\n",
    "\n",
    "Comienza por crear una función que necesite tres lecturas de combustible y devuelva un informe:"
   ]
  },
  {
   "cell_type": "code",
   "execution_count": 22,
   "metadata": {},
   "outputs": [],
   "source": [
    "i = 1;\n",
    "comb = [];\n",
    "def combustible(comb):\n",
    "    prom = (comb[0] + comb[1] + comb[2])/3\n",
    "    return f\"\"\"\n",
    "    El tanque 1 tiene: {comb[0]}%\n",
    "    El tanque 2 tiene: {comb[1]}%\n",
    "    El tanque 3 tiene: {comb[2]}%\n",
    "    El promedio del combustible es de {prom}%\n",
    "    \"\"\";\n"
   ]
  },
  {
   "cell_type": "markdown",
   "metadata": {},
   "source": [
    "Ahora que hemos definido la función de informes, vamos a comprobarlo. Para esta misión, los tanques no están llenos:"
   ]
  },
  {
   "cell_type": "code",
   "execution_count": 24,
   "metadata": {},
   "outputs": [
    {
     "name": "stdout",
     "output_type": "stream",
     "text": [
      "\n",
      "    El tanque 1 tiene: 80%\n",
      "    El tanque 2 tiene: 70%\n",
      "    El tanque 3 tiene: 85%\n",
      "    El promedio del combustible es de 78.33333333333333%\n",
      "    \n"
     ]
    }
   ],
   "source": [
    "print(combustible(comb=[70,40,60]));"
   ]
  },
  {
   "cell_type": "markdown",
   "metadata": {},
   "source": [
    "En lugar de simplemente crear el informe, la función también está calculando el promedio. Mejora la legibilidad extrayendo el cálculo promedio de la función en una nueva función para que el promedio se pueda hacer de forma independiente:"
   ]
  },
  {
   "cell_type": "code",
   "execution_count": 1,
   "metadata": {},
   "outputs": [],
   "source": [
    "def promedio(comb):\n",
    "    prom = (comb[0] + comb[1] + comb[2])/3\n",
    "    return prom;"
   ]
  },
  {
   "cell_type": "markdown",
   "metadata": {},
   "source": [
    "Ahora actualiza la función de informes para llamando a la nueva función del promedio:\n"
   ]
  },
  {
   "cell_type": "code",
   "execution_count": 4,
   "metadata": {},
   "outputs": [
    {
     "name": "stdout",
     "output_type": "stream",
     "text": [
      "\n",
      "    El tanque 1 tiene: 70%\n",
      "    El tanque 2 tiene: 40%\n",
      "    El tanque 3 tiene: 60%\n",
      "    El promedio es de: 56.666666666666664%\n",
      "    \n"
     ]
    }
   ],
   "source": [
    "i = 1;\n",
    "comb = [];\n",
    "def combustible(comb):\n",
    "    return f\"\"\"\n",
    "    El tanque 1 tiene: {comb[0]}%\n",
    "    El tanque 2 tiene: {comb[1]}%\n",
    "    El tanque 3 tiene: {comb[2]}%\n",
    "    El promedio es de: {promedio(comb)}%\n",
    "    \"\"\"\n",
    "print(combustible(comb=[70,40,60]))"
   ]
  },
  {
   "cell_type": "markdown",
   "metadata": {},
   "source": [
    "---"
   ]
  },
  {
   "cell_type": "markdown",
   "metadata": {},
   "source": [
    "### Ejercicio 2: Trabajar con argumentos de palabras clave en funciones\n",
    "En este ejercicio, construirás un informe de cohete que requiere varias piezas de información, como el tiempo hasta el destino, el combustible a la izquierda y el nombre del destino. Comienza por crear una función que creará un informe preciso de la misión:"
   ]
  },
  {
   "cell_type": "code",
   "execution_count": 21,
   "metadata": {},
   "outputs": [
    {
     "name": "stdout",
     "output_type": "stream",
     "text": [
      "\n",
      "    Tiempo: 84 minutos\n",
      "    Combustible Total: 18000 Galones\n",
      "    Destino: Luna\n",
      "    \n"
     ]
    }
   ],
   "source": [
    "\n",
    "def Informe(ti,tf,tan1,tan2,tan3,des):\n",
    "    template = f\"\"\"\n",
    "    Tiempo: {ti + tf} minutos\n",
    "    Combustible Total: {tan1 + tan2 + tan3} Galones\n",
    "    Destino: {des}\n",
    "    \"\"\"\n",
    "    return template;\n",
    "\n",
    "print(Informe(24,60,7000,6000,5000,'Luna'));"
   ]
  },
  {
   "cell_type": "markdown",
   "metadata": {},
   "source": [
    "La función es problemática porque no se puede adaptar para minutos adicionales o tanques adicionales de combustible. Hazlo más flexible permitiendo cualquier número de pasos basados en el tiempo y cualquier número de tanques. En lugar de usar `*args` y `**kwargs`, aprovecha el hecho de que puedes usar cualquier nombre que desees. Asegurate que la función sea más legible mediante el uso de nombres de variables que están asociados con las entradas, como `*minutes` y `**fuel_reservoirs`:"
   ]
  },
  {
   "cell_type": "code",
   "execution_count": 30,
   "metadata": {},
   "outputs": [
    {
     "name": "stdout",
     "output_type": "stream",
     "text": [
      "\n",
      "Tiempo: 84 minutos\n",
      "Combustible Total: 18000 Galones\n",
      "Destino: Luna\n",
      "    \n"
     ]
    }
   ],
   "source": [
    "def Informe(Destino,*args,**kwargs):  \n",
    "    return f\"\"\"\n",
    "Tiempo: {sum(args)} minutos\n",
    "Combustible Total: {sum(kwargs.values())} Galones\n",
    "Destino: {Destino}\n",
    "    \"\"\"\n",
    "\n",
    "print(Informe('Luna',24,60,Tanque1=7000,Tanque2=6000,Tanque3=5000));"
   ]
  },
  {
   "cell_type": "markdown",
   "metadata": {},
   "source": [
    "Debido a que el combustible que queda en los tanques es específico de cada tanque, actualiza la función para usar el nombre de cada tanque en el informe:"
   ]
  },
  {
   "cell_type": "code",
   "execution_count": 31,
   "metadata": {},
   "outputs": [
    {
     "name": "stdout",
     "output_type": "stream",
     "text": [
      "\n",
      "Tiempo: 84 minutos\n",
      "Tanque1: 7000\n",
      "Tanque2: 6000\n",
      "Tanque3: 5000\n",
      "\n",
      "Combustible Total: 18000 Galones\n",
      "Destino: Luna\n",
      "    \n"
     ]
    }
   ],
   "source": [
    "def Informe(Destino,*args,**kwargs):  \n",
    "    template = '';\n",
    "    for key, value in kwargs.items():\n",
    "        template += f\"{key}: {value}\\n\"\n",
    "    return f\"\"\"\n",
    "Tiempo: {sum(args)} minutos\n",
    "{template}\n",
    "Combustible Total: {sum(kwargs.values())} Galones\n",
    "Destino: {Destino}\n",
    "    \"\"\"\n",
    "\n",
    "print(Informe('Luna',24,60,Tanque1=7000,Tanque2=6000,Tanque3=5000));"
   ]
  },
  {
   "cell_type": "markdown",
   "metadata": {},
   "source": [
    "<font color=\"#f2d680\">Kata resuelta por: Luis Angel Barajas</font>"
   ]
  }
 ],
 "metadata": {
  "interpreter": {
   "hash": "27ebadcb7f2f9c7a87378275330f996af94ff8cbbf3da3a9c28b02d2d79995e2"
  },
  "kernelspec": {
   "display_name": "Python 3.10.2 64-bit (windows store)",
   "language": "python",
   "name": "python3"
  },
  "language_info": {
   "codemirror_mode": {
    "name": "ipython",
    "version": 3
   },
   "file_extension": ".py",
   "mimetype": "text/x-python",
   "name": "python",
   "nbconvert_exporter": "python",
   "pygments_lexer": "ipython3",
   "version": "3.10.2"
  },
  "orig_nbformat": 4
 },
 "nbformat": 4,
 "nbformat_minor": 2
}
