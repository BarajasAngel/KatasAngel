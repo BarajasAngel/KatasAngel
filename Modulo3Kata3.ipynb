{
 "cells": [
  {
   "cell_type": "markdown",
   "metadata": {},
   "source": [
    "# Ejercicios con if, else, elif, or, and\n",
    "\n",
    "### Velocidad de un hasteroide\n",
    "Para este ejercicio, escribirás una lógica condicional que imprima una advertencia si un asteroide se acerca a la Tierra demasiado rápido. La velocidad del asteroide varía dependiendo de lo cerca que esté del sol, y cualquier velocidad superior a 25 kilómetros por segundo (km/s) merece una advertencia."
   ]
  },
  {
   "cell_type": "code",
   "execution_count": null,
   "metadata": {},
   "outputs": [],
   "source": [
    "velocidad_asteroide = 49;\n",
    "\n",
    "if velocidad_asteroide > 25:\n",
    "    print(\"El asteroide con velocidad \" + str(velocidad_asteroide) + \" km/s se acerca demasiado rapdio a la tierra\");\n",
    "else:\n",
    "    print(\"La velocidad del asteroide aún se mantiene baja\");"
   ]
  },
  {
   "cell_type": "markdown",
   "metadata": {},
   "source": [
    "Si un asteroide entra en la atmósfera de la Tierra a una velocidad mayor o igual a 20 km/s, a veces produce un rayo de luz que se puede ver desde la Tierra. Escribe la lógica condicional que usa declaraciones if, else, y elif para alertar a las personas de todo el mundo que deben buscar un asteroide en el cielo. ¡Hay uno que se dirige a la tierra ahora a una velocidad de 19 km/s!"
   ]
  },
  {
   "cell_type": "code",
   "execution_count": null,
   "metadata": {},
   "outputs": [],
   "source": [
    "velocidad_asteroide = 19;\n",
    "\n",
    "if velocidad_asteroide >= 20:\n",
    "    print(\"Deberían buscar un asteroide en el cielo\");\n",
    "else:\n",
    "    print(\"La velocidad del asteroide no es suficiente como para generar un rayo de luz\");\n"
   ]
  },
  {
   "cell_type": "markdown",
   "metadata": {},
   "source": [
    "En este ejercicio, aprenderás información más matizada sobre cuándo los asteroides representan un peligro para la Tierra, y utilizarás esa información para mejorar nuestro sistema de advertencia. Aquí está la nueva información que necesitas saber:\n",
    "\n",
    "* Los asteroides de menos de 25 metros en su dimensión más grande probablemente se quemarán a medida que entren en la atmósfera de la Tierra.\n",
    "\n",
    "* Si una pieza de un asteroide que es más grande que 25 metros pero más pequeña que 1000 metros golpeara la Tierra, causaría mucho daño.\n",
    "\n",
    "También discutimos en el ejercicio anterior que:\n",
    "\n",
    "* La velocidad del asteroide varía en función de lo cerca que esté del sol, y cualquier velocidad superior a 25 kilómetros por segundo (km/s) merece una advertencia.\n",
    "\n",
    "* Si un asteroide entra en la atmósfera de la Tierra a una velocidad mayor o igual a 20 km/s, a veces produce un rayo de luz que se puede ver desde la Tierra.\n",
    "\n",
    "Usando toda esta información, escribe un programa que emita la advertencia o información correcta a la gente de la Tierra, según la velocidad y el tamaño de un asteroide. Utiliza instrucciones `if`, `else`, y `elif`, así como los operadores `and` y `or`."
   ]
  },
  {
   "cell_type": "code",
   "execution_count": null,
   "metadata": {},
   "outputs": [],
   "source": [
    "tamaño_asteroide = 40;\n",
    "velocidad_asteroide = 25;\n",
    "\n",
    "if velocidad_asteroide > 25 and tamaño_asteroide > 25:\n",
    "    print(\"Precaucion el asteroide esta viajando a una gran velocidad con direccion a la tierra\");\n",
    "elif tamaño_asteroide >= 1000:\n",
    "    print(\"\"\"El asteroide cuenta con dimensiones criticas, vayan a su refugio anti asteroides gigantes.\n",
    "    De no sobrevivir fue un placer ser su programador de confianza.\"\"\");\n",
    "elif velocidad_asteroide >= 20 :\n",
    "    print(\"Puede que haya luces en el cielo debido a un asteroide\");\n",
    "elif tamaño_asteroide < 25:\n",
    "    print(\"No hay nada de que preocuparse\");\n",
    "    "
   ]
  },
  {
   "cell_type": "markdown",
   "metadata": {},
   "source": [
    "### Extra\n",
    "\n",
    "El siguiente scrpt nos permitira diferentes posibilidades a travez de datos que el usuario introduzca."
   ]
  },
  {
   "cell_type": "code",
   "execution_count": 3,
   "metadata": {},
   "outputs": [
    {
     "name": "stdout",
     "output_type": "stream",
     "text": [
      "Bienvenido\n",
      "Por favor coloque un números validos\n",
      "No hay nada de que preocuparse\n"
     ]
    }
   ],
   "source": [
    "tamaño_asteroide = 0;\n",
    "velocidad_asteroide = 0;\n",
    "comprobar = True;\n",
    "\n",
    "print(\"Bienvenido\");\n",
    "\n",
    "while comprobar:\n",
    "    try:\n",
    "        tamaño_asteroide = int(input(\"Digite el tamaño del asteroide\"));\n",
    "        velocidad_asteroide = int(input(\"Digite la velocidad del asteroide\"));        \n",
    "    except:\n",
    "        print(\"Por favor coloque un números validos\");\n",
    "        comprobar = True;\n",
    "    else:\n",
    "        comprobar = False;\n",
    "\n",
    "if velocidad_asteroide > 25 and tamaño_asteroide > 25 and tamaño_asteroide < 1000:\n",
    "    print(\"Precaucion el asteroide esta viajando a una gran velocidad con direccion a la tierra\");\n",
    "elif tamaño_asteroide >= 1000:\n",
    "    print(\"\"\"El asteroide cuenta con dimensiones criticas, vayan a su refugio anti asteroides gigantes.\n",
    "    De no sobrevivir fue un placer ser su programador de confianza.\"\"\");\n",
    "elif velocidad_asteroide >= 20 :\n",
    "    print(\"Puede que haya luces en el cielo debido a un asteroide\");\n",
    "elif tamaño_asteroide < 25:\n",
    "    print(\"No hay nada de que preocuparse\");"
   ]
  },
  {
   "cell_type": "markdown",
   "metadata": {},
   "source": [
    "<font color=\"#c73181\">Kata resuelta por: Luis Angel Barajas</font>"
   ]
  }
 ],
 "metadata": {
  "interpreter": {
   "hash": "27ebadcb7f2f9c7a87378275330f996af94ff8cbbf3da3a9c28b02d2d79995e2"
  },
  "kernelspec": {
   "display_name": "Python 3.10.2 64-bit (windows store)",
   "language": "python",
   "name": "python3"
  },
  "language_info": {
   "codemirror_mode": {
    "name": "ipython",
    "version": 3
   },
   "file_extension": ".py",
   "mimetype": "text/x-python",
   "name": "python",
   "nbconvert_exporter": "python",
   "pygments_lexer": "ipython3",
   "version": "3.10.2"
  },
  "orig_nbformat": 4
 },
 "nbformat": 4,
 "nbformat_minor": 2
}
