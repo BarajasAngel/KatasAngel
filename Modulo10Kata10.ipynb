{
 "cells": [
  {
   "cell_type": "markdown",
   "metadata": {},
   "source": [
    "# Kata 10\n",
    "## Uso de tracebacks para buscar errores\n",
    "\n",
    "Intenta crear un archivo de Python y asígnale el nombre *open.py*, con el contenido siguiente:\n",
    "\n",
    "```\n",
    "def main():\n",
    "    open(\"/path/to/mars.jpg\")\n",
    "\n",
    "if __name__ == '__main__':\n",
    "    main()\n",
    "```"
   ]
  },
  {
   "cell_type": "code",
   "execution_count": 41,
   "metadata": {},
   "outputs": [
    {
     "ename": "FileNotFoundError",
     "evalue": "[Errno 2] No such file or directory: '/path/to/mars.jpg'",
     "output_type": "error",
     "traceback": [
      "\u001b[1;31m---------------------------------------------------------------------------\u001b[0m",
      "\u001b[1;31mFileNotFoundError\u001b[0m                         Traceback (most recent call last)",
      "File \u001b[1;32m~\\Documents\\Launcher X\\Notebook\\KatasAngel\\src\\open.py:5\u001b[0m, in \u001b[0;36m<module>\u001b[1;34m\u001b[0m\n\u001b[0;32m      <a href='file:///~/Documents/Launcher%20X/Notebook/KatasAngel/src/open.py?line=1'>2</a>\u001b[0m     \u001b[39mopen\u001b[39m(\u001b[39m\"\u001b[39m\u001b[39m/path/to/mars.jpg\u001b[39m\u001b[39m\"\u001b[39m)\n\u001b[0;32m      <a href='file:///~/Documents/Launcher%20X/Notebook/KatasAngel/src/open.py?line=3'>4</a>\u001b[0m \u001b[39mif\u001b[39;00m \u001b[39m__name__\u001b[39m \u001b[39m==\u001b[39m \u001b[39m'\u001b[39m\u001b[39m__main__\u001b[39m\u001b[39m'\u001b[39m:\n\u001b[1;32m----> <a href='file:///~/Documents/Launcher%20X/Notebook/KatasAngel/src/open.py?line=4'>5</a>\u001b[0m     main()\n",
      "File \u001b[1;32m~\\Documents\\Launcher X\\Notebook\\KatasAngel\\src\\open.py:2\u001b[0m, in \u001b[0;36mmain\u001b[1;34m()\u001b[0m\n\u001b[0;32m      <a href='file:///~/Documents/Launcher%20X/Notebook/KatasAngel/src/open.py?line=0'>1</a>\u001b[0m \u001b[39mdef\u001b[39;00m \u001b[39mmain\u001b[39m():\n\u001b[1;32m----> <a href='file:///~/Documents/Launcher%20X/Notebook/KatasAngel/src/open.py?line=1'>2</a>\u001b[0m     \u001b[39mopen\u001b[39;49m(\u001b[39m\"\u001b[39;49m\u001b[39m/path/to/mars.jpg\u001b[39;49m\u001b[39m\"\u001b[39;49m)\n",
      "\u001b[1;31mFileNotFoundError\u001b[0m: [Errno 2] No such file or directory: '/path/to/mars.jpg'"
     ]
    }
   ],
   "source": [
    "%run -i ./src/open.py"
   ]
  },
  {
   "cell_type": "markdown",
   "metadata": {},
   "source": [
    "La salida de error tiene más sentido ahora. Las rutas de acceso apuntan a un único archivo denominado *open.py*. La salida menciona que el error se inicia en la línea 5, que incluye la llamada a `main()`. A continuación, la salida sigue el error a la línea 2 en la llamada de función `open()`. Y, por último, `FileNotFoundError` notifica de nuevo que el archivo o el directorio no existen.\n",
    "\n",
    "Los tracebacks casi siempre incluyen la información siguiente:\n",
    "\n",
    "* Todas las rutas de acceso de archivo implicadas, para cada llamada a cada función.\n",
    "* Los números de línea asociados a cada ruta de acceso de archivo.\n",
    "* Los nombres de las funciones, métodos o clases implicados en la generación de una excepción.\n",
    "* El nombre de la excepción que se ha producido.\n",
    "\n",
    "---\n",
    "\n",
    "## Controlando las excepciones\n",
    "Aunque en este módulo se explica cómo controlar las excepciones detectándolas, no es necesario detectar las excepciones todo el tiempo. A veces resulta útil permitir que se puedan generar excepciones para que otros autores de llamadas puedan tratar los errores.\n",
    "\n",
    "### Try y Except de los bloques\n",
    "Vamos a usar el ejemplo de navegador a fin de crear código que abra archivos de configuración para la misión de Marte. Los archivos de configuración pueden tener todo tipo de problemas, por lo que es fundamental notificarlos con precisión cuando se presenten. Sabemos que, si no existe un archivo o directorio, se genera `FileNotFoundError`. Si queremos controlar esa excepción, podemos hacerlo con un bloque try y except:"
   ]
  },
  {
   "cell_type": "code",
   "execution_count": 42,
   "metadata": {},
   "outputs": [
    {
     "name": "stdout",
     "output_type": "stream",
     "text": [
      "Couldn't find the config.txt file!\n"
     ]
    }
   ],
   "source": [
    "try:\n",
    "    open('config.txt')\n",
    "except FileNotFoundError:\n",
    "    print(\"Couldn't find the config.txt file!\")"
   ]
  },
  {
   "cell_type": "markdown",
   "metadata": {},
   "source": [
    "Aunque es común un archivo que no existe, no es el único error que podemos encontrar. Los permisos de archivo no válidos pueden impedir la lectura de un archivo, incluso si este existe. Vamos a crear un archivo de Python denominado config.py. El archivo tiene código que busca y lee el archivo de configuración del sistema de navegación:\n"
   ]
  },
  {
   "cell_type": "code",
   "execution_count": 43,
   "metadata": {},
   "outputs": [],
   "source": [
    "%run -i ./src/config.py"
   ]
  },
  {
   "cell_type": "markdown",
   "metadata": {},
   "source": [
    "## Generación de excepciones\n",
    "Ahora que tienes una buena comprensión de los tracebacks y el control de excepciones, vamos a revisar la generación de excepciones.\n",
    "\n",
    "Es posible que ya conozcas una situación que podría provocar una condición de error al escribir código. En estas situaciones, resulta útil generar excepciones que permitan que otro código comprenda cuál es el problema.\n",
    "\n",
    "La generación de excepciones también puede ayudar en la toma de decisiones para otro código. Como hemos visto antes, en función del error, el código puede tomar decisiones inteligentes para resolver, solucionar o ignorar un problema.\n",
    "\n",
    "Los astronautas limitan su uso de agua a unos 11 litros al día. Vamos a crear una función que, con base al número de astronautas, pueda calcular la cantidad de agua quedará después de un día o más:"
   ]
  },
  {
   "cell_type": "code",
   "execution_count": 44,
   "metadata": {},
   "outputs": [
    {
     "ename": "TypeError",
     "evalue": "All arguments must be of type int, but received: '3'",
     "output_type": "error",
     "traceback": [
      "\u001b[1;31m---------------------------------------------------------------------------\u001b[0m",
      "\u001b[1;31mTypeError\u001b[0m                                 Traceback (most recent call last)",
      "File \u001b[1;32m~\\Documents\\Launcher X\\Notebook\\KatasAngel\\src\\limit.py:5\u001b[0m, in \u001b[0;36mwater_left\u001b[1;34m(astronauts, water_left, days_left)\u001b[0m\n\u001b[0;32m      <a href='file:///~/Documents/Launcher%20X/Notebook/KatasAngel/src/limit.py?line=2'>3</a>\u001b[0m \u001b[39mtry\u001b[39;00m:\n\u001b[0;32m      <a href='file:///~/Documents/Launcher%20X/Notebook/KatasAngel/src/limit.py?line=3'>4</a>\u001b[0m     \u001b[39m# If argument is an int, the following operation will work\u001b[39;00m\n\u001b[1;32m----> <a href='file:///~/Documents/Launcher%20X/Notebook/KatasAngel/src/limit.py?line=4'>5</a>\u001b[0m     argument \u001b[39m/\u001b[39;49m \u001b[39m10\u001b[39;49m\n\u001b[0;32m      <a href='file:///~/Documents/Launcher%20X/Notebook/KatasAngel/src/limit.py?line=5'>6</a>\u001b[0m \u001b[39mexcept\u001b[39;00m \u001b[39mTypeError\u001b[39;00m:           \n",
      "\u001b[1;31mTypeError\u001b[0m: unsupported operand type(s) for /: 'str' and 'int'",
      "\nDuring handling of the above exception, another exception occurred:\n",
      "\u001b[1;31mTypeError\u001b[0m                                 Traceback (most recent call last)",
      "File \u001b[1;32m~\\Documents\\Launcher X\\Notebook\\KatasAngel\\src\\limit.py:16\u001b[0m, in \u001b[0;36m<module>\u001b[1;34m\u001b[0m\n\u001b[0;32m     <a href='file:///~/Documents/Launcher%20X/Notebook/KatasAngel/src/limit.py?line=12'>13</a>\u001b[0m         \u001b[39mraise\u001b[39;00m \u001b[39mRuntimeError\u001b[39;00m(\u001b[39mf\u001b[39m\u001b[39m\"\u001b[39m\u001b[39mThere is not enough water for \u001b[39m\u001b[39m{\u001b[39;00mastronauts\u001b[39m}\u001b[39;00m\u001b[39m astronauts after \u001b[39m\u001b[39m{\u001b[39;00mdays_left\u001b[39m}\u001b[39;00m\u001b[39m days!\u001b[39m\u001b[39m\"\u001b[39m)\n\u001b[0;32m     <a href='file:///~/Documents/Launcher%20X/Notebook/KatasAngel/src/limit.py?line=13'>14</a>\u001b[0m     \u001b[39mreturn\u001b[39;00m \u001b[39mf\u001b[39m\u001b[39m\"\u001b[39m\u001b[39mTotal water left after \u001b[39m\u001b[39m{\u001b[39;00mdays_left\u001b[39m}\u001b[39;00m\u001b[39m days is: \u001b[39m\u001b[39m{\u001b[39;00mtotal_water_left\u001b[39m}\u001b[39;00m\u001b[39m liters\u001b[39m\u001b[39m\"\u001b[39m\n\u001b[1;32m---> <a href='file:///~/Documents/Launcher%20X/Notebook/KatasAngel/src/limit.py?line=15'>16</a>\u001b[0m \u001b[39mprint\u001b[39m(water_left(\u001b[39m\"\u001b[39;49m\u001b[39m3\u001b[39;49m\u001b[39m\"\u001b[39;49m, \u001b[39m\"\u001b[39;49m\u001b[39m200\u001b[39;49m\u001b[39m\"\u001b[39;49m, \u001b[39mNone\u001b[39;49;00m))\n",
      "File \u001b[1;32m~\\Documents\\Launcher X\\Notebook\\KatasAngel\\src\\limit.py:7\u001b[0m, in \u001b[0;36mwater_left\u001b[1;34m(astronauts, water_left, days_left)\u001b[0m\n\u001b[0;32m      <a href='file:///~/Documents/Launcher%20X/Notebook/KatasAngel/src/limit.py?line=4'>5</a>\u001b[0m         argument \u001b[39m/\u001b[39m \u001b[39m10\u001b[39m\n\u001b[0;32m      <a href='file:///~/Documents/Launcher%20X/Notebook/KatasAngel/src/limit.py?line=5'>6</a>\u001b[0m     \u001b[39mexcept\u001b[39;00m \u001b[39mTypeError\u001b[39;00m:           \n\u001b[1;32m----> <a href='file:///~/Documents/Launcher%20X/Notebook/KatasAngel/src/limit.py?line=6'>7</a>\u001b[0m         \u001b[39mraise\u001b[39;00m \u001b[39mTypeError\u001b[39;00m(\u001b[39mf\u001b[39m\u001b[39m\"\u001b[39m\u001b[39mAll arguments must be of type int, but received: \u001b[39m\u001b[39m'\u001b[39m\u001b[39m{\u001b[39;00margument\u001b[39m}\u001b[39;00m\u001b[39m'\u001b[39m\u001b[39m\"\u001b[39m)\n\u001b[0;32m      <a href='file:///~/Documents/Launcher%20X/Notebook/KatasAngel/src/limit.py?line=8'>9</a>\u001b[0m daily_usage \u001b[39m=\u001b[39m astronauts \u001b[39m*\u001b[39m \u001b[39m11\u001b[39m\n\u001b[0;32m     <a href='file:///~/Documents/Launcher%20X/Notebook/KatasAngel/src/limit.py?line=9'>10</a>\u001b[0m total_usage \u001b[39m=\u001b[39m daily_usage \u001b[39m*\u001b[39m days_left\n",
      "\u001b[1;31mTypeError\u001b[0m: All arguments must be of type int, but received: '3'"
     ]
    }
   ],
   "source": [
    "%run -i ./src/limit.py"
   ]
  },
  {
   "cell_type": "markdown",
   "metadata": {},
   "source": [
    "---\n",
    "### Extra\n",
    "Los ejercicios que estaban dentro del modulo 10 no me ha convencido del todo con mis resultados al terminarlos asi que decidi agregar ejercicios extra usando el control de excepciones."
   ]
  },
  {
   "cell_type": "markdown",
   "metadata": {},
   "source": [
    "#### Ejercicio 1:"
   ]
  },
  {
   "cell_type": "code",
   "execution_count": 45,
   "metadata": {},
   "outputs": [
    {
     "name": "stdout",
     "output_type": "stream",
     "text": [
      "Las divisiones entre 0 no se pueden realizar\n",
      "Error: division by zero\n"
     ]
    }
   ],
   "source": [
    "try:\n",
    "    resultado = 10/0\n",
    "except ZeroDivisionError as ex:\n",
    "    print(f\"Las divisiones entre 0 no se pueden realizar\\nError: {ex}\");\n",
    "    "
   ]
  },
  {
   "cell_type": "markdown",
   "metadata": {},
   "source": [
    "#### Ejercicio 2:"
   ]
  },
  {
   "cell_type": "code",
   "execution_count": 46,
   "metadata": {},
   "outputs": [
    {
     "name": "stdout",
     "output_type": "stream",
     "text": [
      "El valor del indice es mayor al valor de objetos en la lista\n",
      "Error: list index out of range\n"
     ]
    }
   ],
   "source": [
    "try:\n",
    "    lista = [1, 2, 3, 4, 5]\n",
    "    lista[10]\n",
    "except IndexError as ex:\n",
    "    print(f\"El valor del indice es mayor al valor de objetos en la lista\\nError: {ex}\")"
   ]
  },
  {
   "cell_type": "markdown",
   "metadata": {},
   "source": [
    "#### Ejercicio 3:\n",
    "Como ejercicio final quise realizar un script implementando el conocimiento adquirido en estas 10 katas a modo de desafío para mi.\n",
    "\n",
    "Para hacer que los viajes interesestelares sean mas sencillos he creado un programa que se encarga de dar informacion importante al momento de navegar en el basto universo como el tiempo que se tardaría la nave en recorrer ciertas distancias, datos para saber si un planeta podria ser habitable o no, entro otras funciones."
   ]
  },
  {
   "cell_type": "code",
   "execution_count": 47,
   "metadata": {},
   "outputs": [
    {
     "name": "stdout",
     "output_type": "stream",
     "text": [
      "Welcome to the guide program to have a successful travel\n",
      "    1. Know light years needed to reach a planet\n",
      "    2. Find out if a planet is habitable\n",
      "    3. Find out how much you would weigh on a certain planet\n",
      "    4. Curiosity's\n",
      "    5. Create binnacle\n",
      "    6. Read binnacle\n",
      "    7. Exit\n"
     ]
    }
   ],
   "source": [
    "from random import randint\n",
    "import os\n",
    "\n",
    "def converter(distance):\n",
    "    return f\"{(distance*0.00000000000010570)} ly\"\n",
    "def habitable(**kwargs):\n",
    "    i = 0;\n",
    "    if(kwargs['temp'] >= 15):\n",
    "        i += 1\n",
    "    if(kwargs['nitro']>75 and kwargs['nitro']<85):\n",
    "        i += 1\n",
    "    if(kwargs['oxig'] >= 20 and kwargs['oxig']<40):\n",
    "        i += 1\n",
    "    if(kwargs['wather'].lower() == 'y' or kwargs['wather'].lower() == 'yes'):\n",
    "        i += 1\n",
    "    if(kwargs['element'].lower() == 'y' or kwargs['element'].lower() == 'yes'):\n",
    "        i += 1\n",
    "    aux = i/5;\n",
    "    if aux == 1: \n",
    "        return \"The planet is habitable\"\n",
    "    else:\n",
    "        return \"The planet is not habitable\"\n",
    "def weight_on_other_planets(gravity,weight):    \n",
    "    return gravity*weight\n",
    "def curiosity():\n",
    "    info = []\n",
    "    try:\n",
    "        with open(\"./src/curiosity.txt\",\"r\") as file:\n",
    "            for line in file:\n",
    "                info.append(line)\n",
    "    except FileNotFoundError as ex:\n",
    "        print(ex)\n",
    "    return info[randint(0,8)]            \n",
    "def Create(text):\n",
    "    f = open(\"./src/binnacle.txt\",\"w+\")\n",
    "    f.write(text)\n",
    "    f.close()\n",
    "    return \"blog created successfully\"\n",
    "def Read():\n",
    "    try:\n",
    "        p = open('./src/binnacle.txt','r')\n",
    "        v = p.read()\n",
    "        p.close()        \n",
    "    except FileNotFoundError as ex:\n",
    "        return ex\n",
    "    else:\n",
    "        return v\n",
    "com = [1,2,3,4,5,6,7]\n",
    "\n",
    "while True:\n",
    "    print(\"\"\"Welcome to the guide program to have a successful travel\n",
    "    1. Know light years needed to reach a planet\n",
    "    2. Find out if a planet is habitable\n",
    "    3. Find out how much you would weigh on a certain planet\n",
    "    4. Curiosity's\n",
    "    5. Create binnacle\n",
    "    6. Read binnacle\n",
    "    7. Exit\"\"\")    \n",
    "    try:\n",
    "        opc = int(input(\">>\"))\n",
    "    except ValueError:\n",
    "        print(\"Please enter a valid number\")\n",
    "    else:\n",
    "        if not opc in com:\n",
    "            print(\"There is no such option\")\n",
    "        if opc == 1:\n",
    "            try:\n",
    "                print(converter(float(input(\"Enter the distance to the next planet (km): \"))))\n",
    "            except ValueError:\n",
    "                print(\"Please enter a valid number\")\n",
    "        if opc == 2:\n",
    "            try:\n",
    "                temp = float(input(\"Planet temperature: \"))\n",
    "                nitro = float(input(\"Nitrogen percentage in the atmosphere: \"))\n",
    "                oxig = float(input(\"Oxígeno\"))\n",
    "                wather = input(\"Presence of water in its three states: [y/n]\")\n",
    "                element = input(\"Richness of basic chemical elements: [y/n]\")\n",
    "            except ValueError:\n",
    "                print(\"Please enter correct values\");\n",
    "            else:\n",
    "                print(f\"{habitable(temp=temp,nitro=nitro,oxig=oxig,wather=wather,element=element)}\")\n",
    "        if opc == 3:\n",
    "            try:\n",
    "                gravity = float(input(\"write the gravity of the planet: \"))\n",
    "                weight = float(input(\"write your weight in kg: \"))\n",
    "            except ValueError as ex:\n",
    "                print(f\"wrong values\\nError: {ex}\")\n",
    "            else:\n",
    "                print(f\"Your weight on that planet is: {weight_on_other_planets(gravity,weight)} kg\")                \n",
    "        if opc == 4:\n",
    "            print(curiosity())\n",
    "        if opc == 5:\n",
    "            print(Create(input(\"Enter the log record: \")))\n",
    "        if opc == 6:\n",
    "            print(Read())\n",
    "        if opc == 7:            \n",
    "            os.system (\"cls\")\n",
    "            break                "
   ]
  },
  {
   "cell_type": "markdown",
   "metadata": {},
   "source": [
    "<font color=\"#f2d680\">Kata resuelta por: Luis Angel Barajas</font>"
   ]
  }
 ],
 "metadata": {
  "interpreter": {
   "hash": "27ebadcb7f2f9c7a87378275330f996af94ff8cbbf3da3a9c28b02d2d79995e2"
  },
  "kernelspec": {
   "display_name": "Python 3.10.2 64-bit (windows store)",
   "language": "python",
   "name": "python3"
  },
  "language_info": {
   "codemirror_mode": {
    "name": "ipython",
    "version": 3
   },
   "file_extension": ".py",
   "mimetype": "text/x-python",
   "name": "python",
   "nbconvert_exporter": "python",
   "pygments_lexer": "ipython3",
   "version": "3.10.2"
  },
  "orig_nbformat": 4
 },
 "nbformat": 4,
 "nbformat_minor": 2
}
